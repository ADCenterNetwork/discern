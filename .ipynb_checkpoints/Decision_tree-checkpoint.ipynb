{
 "cells": [
  {
   "cell_type": "code",
   "execution_count": 1,
   "metadata": {},
   "outputs": [],
   "source": [
    "from sklearn import *\n",
    "import pandas as pd"
   ]
  },
  {
   "cell_type": "code",
   "execution_count": 2,
   "metadata": {},
   "outputs": [],
   "source": [
    "import os"
   ]
  },
  {
   "cell_type": "code",
   "execution_count": 3,
   "metadata": {},
   "outputs": [],
   "source": [
    "path_df = 'C:\\\\Users\\\\adomingu\\\\Documents\\\\decision_tree\\\\output\\\\flower\\\\LabelFolder_flower\\\\LabelFolderWithGen_flower'"
   ]
  },
  {
   "cell_type": "code",
   "execution_count": 4,
   "metadata": {},
   "outputs": [],
   "source": [
    "ls = []\n",
    "for root, dirs, files in os.walk(path_df):\n",
    "    for file in files:\n",
    "        if file.endswith('.csv'):\n",
    "            filepath = os.path.join(root, file)\n",
    "            df = pd.read_csv(filepath)\n",
    "            ls.append(df)"
   ]
  },
  {
   "cell_type": "code",
   "execution_count": 5,
   "metadata": {},
   "outputs": [],
   "source": [
    "df = pd.concat(ls)"
   ]
  },
  {
   "cell_type": "code",
   "execution_count": 6,
   "metadata": {},
   "outputs": [
    {
     "data": {
      "text/html": [
       "<div>\n",
       "<style scoped>\n",
       "    .dataframe tbody tr th:only-of-type {\n",
       "        vertical-align: middle;\n",
       "    }\n",
       "\n",
       "    .dataframe tbody tr th {\n",
       "        vertical-align: top;\n",
       "    }\n",
       "\n",
       "    .dataframe thead th {\n",
       "        text-align: right;\n",
       "    }\n",
       "</style>\n",
       "<table border=\"1\" class=\"dataframe\">\n",
       "  <thead>\n",
       "    <tr style=\"text-align: right;\">\n",
       "      <th></th>\n",
       "      <th>node_id</th>\n",
       "      <th>class_name</th>\n",
       "      <th>parent_id</th>\n",
       "      <th>Generator</th>\n",
       "    </tr>\n",
       "  </thead>\n",
       "  <tbody>\n",
       "    <tr>\n",
       "      <th>0</th>\n",
       "      <td>0</td>\n",
       "      <td>100</td>\n",
       "      <td>-1</td>\n",
       "      <td>0</td>\n",
       "    </tr>\n",
       "    <tr>\n",
       "      <th>1</th>\n",
       "      <td>1</td>\n",
       "      <td>73</td>\n",
       "      <td>0</td>\n",
       "      <td>0</td>\n",
       "    </tr>\n",
       "    <tr>\n",
       "      <th>2</th>\n",
       "      <td>2</td>\n",
       "      <td>75</td>\n",
       "      <td>1</td>\n",
       "      <td>0</td>\n",
       "    </tr>\n",
       "    <tr>\n",
       "      <th>3</th>\n",
       "      <td>3</td>\n",
       "      <td>73</td>\n",
       "      <td>0</td>\n",
       "      <td>0</td>\n",
       "    </tr>\n",
       "    <tr>\n",
       "      <th>4</th>\n",
       "      <td>4</td>\n",
       "      <td>75</td>\n",
       "      <td>3</td>\n",
       "      <td>0</td>\n",
       "    </tr>\n",
       "  </tbody>\n",
       "</table>\n",
       "</div>"
      ],
      "text/plain": [
       "   node_id  class_name  parent_id  Generator\n",
       "0        0         100         -1          0\n",
       "1        1          73          0          0\n",
       "2        2          75          1          0\n",
       "3        3          73          0          0\n",
       "4        4          75          3          0"
      ]
     },
     "execution_count": 6,
     "metadata": {},
     "output_type": "execute_result"
    }
   ],
   "source": [
    "df.head()"
   ]
  },
  {
   "cell_type": "code",
   "execution_count": 7,
   "metadata": {},
   "outputs": [
    {
     "data": {
      "text/plain": [
       "(25275, 4)"
      ]
     },
     "execution_count": 7,
     "metadata": {},
     "output_type": "execute_result"
    }
   ],
   "source": [
    "df.shape"
   ]
  },
  {
   "cell_type": "code",
   "execution_count": 8,
   "metadata": {},
   "outputs": [
    {
     "data": {
      "text/html": [
       "<div>\n",
       "<style scoped>\n",
       "    .dataframe tbody tr th:only-of-type {\n",
       "        vertical-align: middle;\n",
       "    }\n",
       "\n",
       "    .dataframe tbody tr th {\n",
       "        vertical-align: top;\n",
       "    }\n",
       "\n",
       "    .dataframe thead th {\n",
       "        text-align: right;\n",
       "    }\n",
       "</style>\n",
       "<table border=\"1\" class=\"dataframe\">\n",
       "  <thead>\n",
       "    <tr style=\"text-align: right;\">\n",
       "      <th></th>\n",
       "      <th>node_id</th>\n",
       "      <th>class_name</th>\n",
       "      <th>parent_id</th>\n",
       "    </tr>\n",
       "  </thead>\n",
       "  <tbody>\n",
       "    <tr>\n",
       "      <th>0</th>\n",
       "      <td>0</td>\n",
       "      <td>100</td>\n",
       "      <td>-1</td>\n",
       "    </tr>\n",
       "    <tr>\n",
       "      <th>1</th>\n",
       "      <td>1</td>\n",
       "      <td>73</td>\n",
       "      <td>0</td>\n",
       "    </tr>\n",
       "    <tr>\n",
       "      <th>2</th>\n",
       "      <td>2</td>\n",
       "      <td>75</td>\n",
       "      <td>1</td>\n",
       "    </tr>\n",
       "    <tr>\n",
       "      <th>3</th>\n",
       "      <td>3</td>\n",
       "      <td>73</td>\n",
       "      <td>0</td>\n",
       "    </tr>\n",
       "    <tr>\n",
       "      <th>4</th>\n",
       "      <td>4</td>\n",
       "      <td>75</td>\n",
       "      <td>3</td>\n",
       "    </tr>\n",
       "  </tbody>\n",
       "</table>\n",
       "</div>"
      ],
      "text/plain": [
       "   node_id  class_name  parent_id\n",
       "0        0         100         -1\n",
       "1        1          73          0\n",
       "2        2          75          1\n",
       "3        3          73          0\n",
       "4        4          75          3"
      ]
     },
     "execution_count": 8,
     "metadata": {},
     "output_type": "execute_result"
    }
   ],
   "source": [
    "inputs = df.drop('Generator', axis='columns')\n",
    "inputs.head()"
   ]
  },
  {
   "cell_type": "code",
   "execution_count": 9,
   "metadata": {},
   "outputs": [
    {
     "data": {
      "text/plain": [
       "0    0\n",
       "1    0\n",
       "2    0\n",
       "3    0\n",
       "4    0\n",
       "Name: Generator, dtype: int64"
      ]
     },
     "execution_count": 9,
     "metadata": {},
     "output_type": "execute_result"
    }
   ],
   "source": [
    "target = df['Generator']\n",
    "target.head()"
   ]
  },
  {
   "cell_type": "code",
   "execution_count": 10,
   "metadata": {},
   "outputs": [],
   "source": [
    "model = tree.DecisionTreeClassifier()"
   ]
  },
  {
   "cell_type": "code",
   "execution_count": 11,
   "metadata": {},
   "outputs": [
    {
     "data": {
      "text/plain": [
       "DecisionTreeClassifier()"
      ]
     },
     "execution_count": 11,
     "metadata": {},
     "output_type": "execute_result"
    }
   ],
   "source": [
    "model.fit(inputs, target)"
   ]
  },
  {
   "cell_type": "code",
   "execution_count": 12,
   "metadata": {},
   "outputs": [
    {
     "data": {
      "text/plain": [
       "1.0"
      ]
     },
     "execution_count": 12,
     "metadata": {},
     "output_type": "execute_result"
    }
   ],
   "source": [
    "model.score(inputs, target)"
   ]
  },
  {
   "cell_type": "code",
   "execution_count": 13,
   "metadata": {},
   "outputs": [
    {
     "data": {
      "text/plain": [
       "3"
      ]
     },
     "execution_count": 13,
     "metadata": {},
     "output_type": "execute_result"
    }
   ],
   "source": [
    "model.n_features_"
   ]
  },
  {
   "cell_type": "code",
   "execution_count": 14,
   "metadata": {},
   "outputs": [
    {
     "data": {
      "text/plain": [
       "[Text(237.8842105263158, 207.55636363636364, 'X[0] <= 13185.5\\ngini = 0.212\\nsamples = 25275\\nvalue = [22233, 3042]'),\n",
       " Text(158.58947368421053, 187.7890909090909, 'X[2] <= 10996.5\\ngini = 0.352\\nsamples = 13186\\nvalue = [10176, 3010]'),\n",
       " Text(70.48421052631579, 168.0218181818182, 'X[2] <= 6244.0\\ngini = 0.164\\nsamples = 11005\\nvalue = [10013, 992]'),\n",
       " Text(61.67368421052632, 148.25454545454545, 'gini = 0.0\\nsamples = 6261\\nvalue = [6261, 0]'),\n",
       " Text(79.29473684210527, 148.25454545454545, 'X[0] <= 8215.5\\ngini = 0.331\\nsamples = 4744\\nvalue = [3752, 992]'),\n",
       " Text(44.05263157894737, 128.48727272727274, 'X[0] <= 8027.5\\ngini = 0.477\\nsamples = 1960\\nvalue = [1188, 772]'),\n",
       " Text(35.242105263157896, 108.72, 'X[0] <= 6389.5\\ngini = 0.442\\nsamples = 1772\\nvalue = [1188, 584]'),\n",
       " Text(17.621052631578948, 88.95272727272729, 'X[0] <= 6247.5\\ngini = 0.027\\nsamples = 144\\nvalue = [2, 142]'),\n",
       " Text(8.810526315789474, 69.18545454545455, 'gini = 0.0\\nsamples = 2\\nvalue = [2, 0]'),\n",
       " Text(26.431578947368422, 69.18545454545455, 'gini = 0.0\\nsamples = 142\\nvalue = [0, 142]'),\n",
       " Text(52.863157894736844, 88.95272727272729, 'X[0] <= 6860.5\\ngini = 0.396\\nsamples = 1628\\nvalue = [1186, 442]'),\n",
       " Text(44.05263157894737, 69.18545454545455, 'gini = 0.0\\nsamples = 466\\nvalue = [466, 0]'),\n",
       " Text(61.67368421052632, 69.18545454545455, 'X[0] <= 7054.0\\ngini = 0.471\\nsamples = 1162\\nvalue = [720, 442]'),\n",
       " Text(52.863157894736844, 49.418181818181836, 'gini = 0.0\\nsamples = 193\\nvalue = [0, 193]'),\n",
       " Text(70.48421052631579, 49.418181818181836, 'X[0] <= 7468.5\\ngini = 0.382\\nsamples = 969\\nvalue = [720, 249]'),\n",
       " Text(61.67368421052632, 29.650909090909096, 'gini = 0.0\\nsamples = 411\\nvalue = [411, 0]'),\n",
       " Text(79.29473684210527, 29.650909090909096, 'X[2] <= 7716.5\\ngini = 0.494\\nsamples = 558\\nvalue = [309, 249]'),\n",
       " Text(70.48421052631579, 9.883636363636384, 'gini = 0.0\\nsamples = 249\\nvalue = [0, 249]'),\n",
       " Text(88.10526315789474, 9.883636363636384, 'gini = 0.0\\nsamples = 309\\nvalue = [309, 0]'),\n",
       " Text(52.863157894736844, 108.72, 'gini = 0.0\\nsamples = 188\\nvalue = [0, 188]'),\n",
       " Text(114.53684210526316, 128.48727272727274, 'X[0] <= 9178.5\\ngini = 0.146\\nsamples = 2784\\nvalue = [2564, 220]'),\n",
       " Text(105.72631578947369, 108.72, 'gini = 0.0\\nsamples = 963\\nvalue = [963, 0]'),\n",
       " Text(123.34736842105264, 108.72, 'X[0] <= 9295.5\\ngini = 0.212\\nsamples = 1821\\nvalue = [1601, 220]'),\n",
       " Text(114.53684210526316, 88.95272727272729, 'gini = 0.0\\nsamples = 117\\nvalue = [0, 117]'),\n",
       " Text(132.1578947368421, 88.95272727272729, 'X[0] <= 9977.5\\ngini = 0.114\\nsamples = 1704\\nvalue = [1601, 103]'),\n",
       " Text(123.34736842105264, 69.18545454545455, 'gini = 0.0\\nsamples = 680\\nvalue = [680, 0]'),\n",
       " Text(140.96842105263158, 69.18545454545455, 'X[0] <= 10295.5\\ngini = 0.181\\nsamples = 1024\\nvalue = [921, 103]'),\n",
       " Text(123.34736842105264, 49.418181818181836, 'X[0] <= 10216.5\\ngini = 0.433\\nsamples = 318\\nvalue = [217, 101]'),\n",
       " Text(114.53684210526316, 29.650909090909096, 'X[0] <= 9999.5\\ngini = 0.167\\nsamples = 239\\nvalue = [217, 22]'),\n",
       " Text(105.72631578947369, 9.883636363636384, 'gini = 0.0\\nsamples = 22\\nvalue = [0, 22]'),\n",
       " Text(123.34736842105264, 9.883636363636384, 'gini = 0.0\\nsamples = 217\\nvalue = [217, 0]'),\n",
       " Text(132.1578947368421, 29.650909090909096, 'gini = 0.0\\nsamples = 79\\nvalue = [0, 79]'),\n",
       " Text(158.58947368421053, 49.418181818181836, 'X[0] <= 10997.5\\ngini = 0.006\\nsamples = 706\\nvalue = [704, 2]'),\n",
       " Text(149.77894736842106, 29.650909090909096, 'gini = 0.0\\nsamples = 700\\nvalue = [700, 0]'),\n",
       " Text(167.4, 29.650909090909096, 'X[1] <= 91.0\\ngini = 0.444\\nsamples = 6\\nvalue = [4, 2]'),\n",
       " Text(158.58947368421053, 9.883636363636384, 'gini = 0.0\\nsamples = 2\\nvalue = [0, 2]'),\n",
       " Text(176.21052631578948, 9.883636363636384, 'gini = 0.0\\nsamples = 4\\nvalue = [4, 0]'),\n",
       " Text(246.69473684210527, 168.0218181818182, 'X[1] <= 71.0\\ngini = 0.138\\nsamples = 2181\\nvalue = [163, 2018]'),\n",
       " Text(211.45263157894738, 148.25454545454545, 'X[2] <= 12415.0\\ngini = 0.117\\nsamples = 2049\\nvalue = [128, 1921]'),\n",
       " Text(193.83157894736843, 128.48727272727274, 'X[0] <= 12343.0\\ngini = 0.16\\nsamples = 1327\\nvalue = [116, 1211]'),\n",
       " Text(185.02105263157895, 108.72, 'X[2] <= 11344.5\\ngini = 0.09\\nsamples = 1271\\nvalue = [60, 1211]'),\n",
       " Text(167.4, 88.95272727272729, 'X[0] <= 11298.0\\ngini = 0.217\\nsamples = 323\\nvalue = [40, 283]'),\n",
       " Text(158.58947368421053, 69.18545454545455, 'gini = 0.0\\nsamples = 283\\nvalue = [0, 283]'),\n",
       " Text(176.21052631578948, 69.18545454545455, 'gini = 0.0\\nsamples = 40\\nvalue = [40, 0]'),\n",
       " Text(202.6421052631579, 88.95272727272729, 'X[2] <= 11795.5\\ngini = 0.041\\nsamples = 948\\nvalue = [20, 928]'),\n",
       " Text(193.83157894736843, 69.18545454545455, 'X[2] <= 11774.0\\ngini = 0.089\\nsamples = 428\\nvalue = [20, 408]'),\n",
       " Text(185.02105263157895, 49.418181818181836, 'gini = 0.0\\nsamples = 408\\nvalue = [0, 408]'),\n",
       " Text(202.6421052631579, 49.418181818181836, 'gini = 0.0\\nsamples = 20\\nvalue = [20, 0]'),\n",
       " Text(211.45263157894738, 69.18545454545455, 'gini = 0.0\\nsamples = 520\\nvalue = [0, 520]'),\n",
       " Text(202.6421052631579, 108.72, 'gini = 0.0\\nsamples = 56\\nvalue = [56, 0]'),\n",
       " Text(229.07368421052632, 128.48727272727274, 'X[0] <= 12929.0\\ngini = 0.033\\nsamples = 722\\nvalue = [12, 710]'),\n",
       " Text(220.26315789473685, 108.72, 'gini = 0.0\\nsamples = 484\\nvalue = [0, 484]'),\n",
       " Text(237.8842105263158, 108.72, 'X[2] <= 12948.0\\ngini = 0.096\\nsamples = 238\\nvalue = [12, 226]'),\n",
       " Text(229.07368421052632, 88.95272727272729, 'gini = 0.0\\nsamples = 12\\nvalue = [12, 0]'),\n",
       " Text(246.69473684210527, 88.95272727272729, 'gini = 0.0\\nsamples = 226\\nvalue = [0, 226]'),\n",
       " Text(281.93684210526317, 148.25454545454545, 'X[1] <= 75.5\\ngini = 0.39\\nsamples = 132\\nvalue = [35, 97]'),\n",
       " Text(273.12631578947367, 128.48727272727274, 'gini = 0.0\\nsamples = 12\\nvalue = [12, 0]'),\n",
       " Text(290.74736842105267, 128.48727272727274, 'X[2] <= 12256.5\\ngini = 0.31\\nsamples = 120\\nvalue = [23, 97]'),\n",
       " Text(273.12631578947367, 108.72, 'X[0] <= 11326.0\\ngini = 0.159\\nsamples = 69\\nvalue = [6, 63]'),\n",
       " Text(264.3157894736842, 88.95272727272729, 'X[0] <= 11278.5\\ngini = 0.408\\nsamples = 21\\nvalue = [6, 15]'),\n",
       " Text(255.50526315789475, 69.18545454545455, 'gini = 0.0\\nsamples = 15\\nvalue = [0, 15]'),\n",
       " Text(273.12631578947367, 69.18545454545455, 'gini = 0.0\\nsamples = 6\\nvalue = [6, 0]'),\n",
       " Text(281.93684210526317, 88.95272727272729, 'gini = 0.0\\nsamples = 48\\nvalue = [0, 48]'),\n",
       " Text(308.36842105263156, 108.72, 'X[0] <= 12410.5\\ngini = 0.444\\nsamples = 51\\nvalue = [17, 34]'),\n",
       " Text(299.5578947368421, 88.95272727272729, 'gini = 0.0\\nsamples = 16\\nvalue = [16, 0]'),\n",
       " Text(317.17894736842106, 88.95272727272729, 'X[1] <= 93.5\\ngini = 0.056\\nsamples = 35\\nvalue = [1, 34]'),\n",
       " Text(308.36842105263156, 69.18545454545455, 'gini = 0.0\\nsamples = 34\\nvalue = [0, 34]'),\n",
       " Text(325.98947368421057, 69.18545454545455, 'gini = 0.0\\nsamples = 1\\nvalue = [1, 0]'),\n",
       " Text(317.17894736842106, 187.7890909090909, 'X[0] <= 13632.5\\ngini = 0.005\\nsamples = 12089\\nvalue = [12057, 32]'),\n",
       " Text(308.36842105263156, 168.0218181818182, 'X[0] <= 13600.5\\ngini = 0.133\\nsamples = 447\\nvalue = [415, 32]'),\n",
       " Text(299.5578947368421, 148.25454545454545, 'gini = 0.0\\nsamples = 415\\nvalue = [415, 0]'),\n",
       " Text(317.17894736842106, 148.25454545454545, 'gini = 0.0\\nsamples = 32\\nvalue = [0, 32]'),\n",
       " Text(325.98947368421057, 168.0218181818182, 'gini = 0.0\\nsamples = 11642\\nvalue = [11642, 0]')]"
      ]
     },
     "execution_count": 14,
     "metadata": {},
     "output_type": "execute_result"
    },
    {
     "data": {
      "image/png": "[encoded data removed]",
      "text/plain": [
       "<Figure size 432x288 with 1 Axes>"
      ]
     },
     "metadata": {
      "needs_background": "light"
     },
     "output_type": "display_data"
    }
   ],
   "source": [
    "tree.plot_tree(model)"
   ]
  },
  {
   "cell_type": "code",
   "execution_count": 26,
   "metadata": {},
   "outputs": [],
   "source": [
    "path_df_validation = \"C:\\\\Users\\\\adomingu\\\\Documents\\\\decision_tree\\\\output\\\\percol\\\\LabelFolder_percol\\\\LabelFolderWithGen_percol\""
   ]
  },
  {
   "cell_type": "code",
   "execution_count": 27,
   "metadata": {},
   "outputs": [],
   "source": [
    "ls = []\n",
    "for root, dirs, files in os.walk(path_df_validation):\n",
    "    for file in files:\n",
    "        if file.endswith('.csv'):\n",
    "            filepath = os.path.join(root, file)\n",
    "            df = pd.read_csv(filepath)\n",
    "            ls.append(df)"
   ]
  },
  {
   "cell_type": "code",
   "execution_count": 28,
   "metadata": {},
   "outputs": [],
   "source": [
    "df_validation = pd.concat(ls)"
   ]
  },
  {
   "cell_type": "code",
   "execution_count": 29,
   "metadata": {},
   "outputs": [],
   "source": [
    "inputs_validation = df_validation.drop('Generator', axis='columns')\n",
    "target_validation = df_validation['Generator']"
   ]
  },
  {
   "cell_type": "code",
   "execution_count": 30,
   "metadata": {},
   "outputs": [
    {
     "data": {
      "text/plain": [
       "0.8848380676678126"
      ]
     },
     "execution_count": 30,
     "metadata": {},
     "output_type": "execute_result"
    }
   ],
   "source": [
    "model.score(inputs_validation, target_validation)"
   ]
  },
  {
   "cell_type": "code",
   "execution_count": null,
   "metadata": {},
   "outputs": [],
   "source": []
  }
 ],
 "metadata": {
  "kernelspec": {
   "display_name": "Python 3",
   "language": "python",
   "name": "python3"
  },
  "language_info": {
   "codemirror_mode": {
    "name": "ipython",
    "version": 3
   },
   "file_extension": ".py",
   "mimetype": "text/x-python",
   "name": "python",
   "nbconvert_exporter": "python",
   "pygments_lexer": "ipython3",
   "version": "3.8.5"
  }
 },
 "nbformat": 4,
 "nbformat_minor": 4
}
